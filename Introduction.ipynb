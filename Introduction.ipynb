{
 "cells": [
  {
   "cell_type": "code",
   "execution_count": 1,
   "id": "f867eba9",
   "metadata": {},
   "outputs": [],
   "source": [
    "%load_ext autoreload\n",
    "%autoreload 2"
   ]
  },
  {
   "cell_type": "code",
   "execution_count": 18,
   "id": "f6c843d6",
   "metadata": {},
   "outputs": [],
   "source": [
    "import numpy as np\n",
    "import tqdm \n",
    "\n",
    "from collections import Counter\n",
    "\n",
    "from sklearn.feature_extraction.text import TfidfVectorizer\n",
    "from sklearn.cluster import KMeans, FeatureAgglomeration\n",
    "from sklearn.cluster import AgglomerativeClustering\n",
    "from sklearn.decomposition import TruncatedSVD\n",
    "from sklearn import metrics\n",
    "from sklearn.metrics import accuracy_score\n",
    "\n",
    "from sklearn.metrics import adjusted_mutual_info_score as AMI\n",
    "from sklearn.metrics import v_measure_score as VM\n",
    "from sklearn.metrics.cluster import adjusted_rand_score as ARI"
   ]
  },
  {
   "cell_type": "code",
   "execution_count": 10,
   "id": "fddcc015",
   "metadata": {},
   "outputs": [],
   "source": [
    "from purity_score import purity_score\n",
    "from data_loaders import loader_snli, loader_msr"
   ]
  },
  {
   "cell_type": "code",
   "execution_count": 4,
   "id": "96dc8df0",
   "metadata": {},
   "outputs": [],
   "source": [
    "np.random.seed(1337)"
   ]
  },
  {
   "cell_type": "markdown",
   "id": "9af40ddc",
   "metadata": {},
   "source": [
    "## TF-IDF"
   ]
  },
  {
   "cell_type": "markdown",
   "id": "a1a5b2ed",
   "metadata": {},
   "source": [
    "### Vectorizing Data"
   ]
  },
  {
   "cell_type": "code",
   "execution_count": 5,
   "id": "a41fb744",
   "metadata": {},
   "outputs": [],
   "source": [
    "vectorizer = TfidfVectorizer(ngram_range=(1, 4), stop_words='english')"
   ]
  },
  {
   "cell_type": "code",
   "execution_count": null,
   "id": "d88b444a",
   "metadata": {},
   "outputs": [],
   "source": [
    "vectorizer.fit(data['train-x'])"
   ]
  },
  {
   "cell_type": "code",
   "execution_count": null,
   "id": "3b919b05",
   "metadata": {},
   "outputs": [],
   "source": [
    "data['train-vec'] = vectorizer.transform(data['train-x'])\n",
    "data['test-vec'] = vectorizer.transform(data['test-x'])"
   ]
  },
  {
   "cell_type": "code",
   "execution_count": null,
   "id": "b31764bc",
   "metadata": {},
   "outputs": [],
   "source": [
    "data['train-vec'].shape, data['test-vec'].shape"
   ]
  },
  {
   "cell_type": "markdown",
   "id": "b7a246f6",
   "metadata": {},
   "source": [
    "### PCA decomposition"
   ]
  },
  {
   "cell_type": "code",
   "execution_count": 6,
   "id": "efd52fea",
   "metadata": {},
   "outputs": [],
   "source": [
    "Xpca = TruncatedSVD(300)"
   ]
  },
  {
   "cell_type": "code",
   "execution_count": null,
   "id": "37448074",
   "metadata": {},
   "outputs": [],
   "source": [
    "Xpca.fit(data['train-vec'])"
   ]
  },
  {
   "cell_type": "code",
   "execution_count": null,
   "id": "569af002",
   "metadata": {},
   "outputs": [],
   "source": [
    "data['train-pca'] = Xpca.transform(data['train-vec'])\n",
    "data['test-pca'] = Xpca.transform(data['test-vec'])"
   ]
  },
  {
   "cell_type": "markdown",
   "id": "c7ff555e",
   "metadata": {},
   "source": [
    "### Approximate clusters number"
   ]
  },
  {
   "cell_type": "code",
   "execution_count": 9,
   "id": "b4f59a49",
   "metadata": {},
   "outputs": [],
   "source": [
    "#here you need to find a way to approximate number of clusters\n",
    "def choose_n_cluster(data):\n",
    "    n_clusters = 0\n",
    "    \"\"\"\n",
    "    code\n",
    "    \"\"\"\n",
    "    return n_clusters"
   ]
  },
  {
   "cell_type": "markdown",
   "id": "04f967a4",
   "metadata": {},
   "source": [
    "### Kmeans"
   ]
  },
  {
   "cell_type": "code",
   "execution_count": null,
   "id": "02de8fa5",
   "metadata": {},
   "outputs": [],
   "source": [
    "n_clusters = choose_n_cluster(data_test)\n",
    "grouper = KMeans(n_clusters=n_clusters)"
   ]
  },
  {
   "cell_type": "code",
   "execution_count": null,
   "id": "a964f032",
   "metadata": {},
   "outputs": [],
   "source": [
    "grouper.fit(vectors, n_clusters)"
   ]
  },
  {
   "cell_type": "code",
   "execution_count": null,
   "id": "c83064c2",
   "metadata": {},
   "outputs": [],
   "source": [
    "label_predict = grouper.predict(vectors)\n",
    "label_true = data[part + '-y']"
   ]
  },
  {
   "cell_type": "code",
   "execution_count": null,
   "id": "24006aad",
   "metadata": {},
   "outputs": [],
   "source": [
    "print(f\"Kmeans, ARI score: {ARI(label_true, label_predict)}\")\n",
    "print(f\"Kmeans, purity_score: {purity_score(label_true, label_predict)}\")"
   ]
  },
  {
   "cell_type": "markdown",
   "id": "0e9d1ac9",
   "metadata": {},
   "source": [
    "### Algomerative clustering\n"
   ]
  },
  {
   "cell_type": "code",
   "execution_count": null,
   "id": "92f7998e",
   "metadata": {},
   "outputs": [],
   "source": [
    "n_clusters = choose_n_cluster(data_test)\n",
    "algomerative_grouper = AgglomerativeClustering(n_clusters=n_clusters)"
   ]
  },
  {
   "cell_type": "code",
   "execution_count": null,
   "id": "32d46704",
   "metadata": {},
   "outputs": [],
   "source": [
    "label_predict = algomerative_grouper.fit_predict(vectors, n_clusters)\n",
    "label_true = data[part + '-y']"
   ]
  },
  {
   "cell_type": "code",
   "execution_count": null,
   "id": "6daa7283",
   "metadata": {},
   "outputs": [],
   "source": [
    "print(f\"Algomerative, ARI score: {ARI(label_true, label_predict)}\")\n",
    "print(f\"Algomerative, purity_score: {purity_score(label_true, label_predict)}\")"
   ]
  },
  {
   "cell_type": "markdown",
   "id": "c1c9edcd",
   "metadata": {},
   "source": [
    "## ELMO"
   ]
  },
  {
   "cell_type": "markdown",
   "id": "195d3e57",
   "metadata": {},
   "source": [
    "### Kmeans"
   ]
  },
  {
   "cell_type": "code",
   "execution_count": null,
   "id": "ac9b5024",
   "metadata": {},
   "outputs": [],
   "source": [
    "n_clusters = choose_n_cluster(data)\n",
    "grouper = KMeans(n_clusters=n_clusters)"
   ]
  },
  {
   "cell_type": "code",
   "execution_count": null,
   "id": "e798bd61",
   "metadata": {},
   "outputs": [],
   "source": [
    "grouper.fit(vectors, n_clusters)"
   ]
  },
  {
   "cell_type": "code",
   "execution_count": null,
   "id": "c7da6f31",
   "metadata": {},
   "outputs": [],
   "source": [
    "label_predict = grouper.predict(vectors)\n",
    "label_true = data[part + '-y']"
   ]
  },
  {
   "cell_type": "code",
   "execution_count": null,
   "id": "06ffc31f",
   "metadata": {},
   "outputs": [],
   "source": [
    "print(f\"Kmeans, ARI score: {ARI(label_true, label_predict)}\")\n",
    "print(f\"Kmeans, purity_score: {purity_score(label_true, label_predict)}\")"
   ]
  },
  {
   "cell_type": "markdown",
   "id": "05f37cdb",
   "metadata": {},
   "source": [
    "### Algomerative clustering\n"
   ]
  },
  {
   "cell_type": "code",
   "execution_count": null,
   "id": "223fa7f1",
   "metadata": {},
   "outputs": [],
   "source": [
    "n_clusters = choose_n_cluster(part)\n",
    "algomerative_grouper = AgglomerativeClustering(n_clusters=n_clusters)"
   ]
  },
  {
   "cell_type": "code",
   "execution_count": null,
   "id": "31930405",
   "metadata": {},
   "outputs": [],
   "source": [
    "label_predict = algomerative_grouper.fit_predict(vectors, n_clusters)\n",
    "label_true = data[part + '-y']"
   ]
  },
  {
   "cell_type": "code",
   "execution_count": null,
   "id": "822d25a7",
   "metadata": {},
   "outputs": [],
   "source": [
    "print(f\"Algomerative, ARI score: {ARI(label_true, label_predict)}\")\n",
    "print(f\"Algomerative, purity_score: {purity_score(label_true, label_predict)}\")"
   ]
  }
 ],
 "metadata": {
  "kernelspec": {
   "display_name": "Python 3 (ipykernel)",
   "language": "python",
   "name": "python3"
  },
  "language_info": {
   "codemirror_mode": {
    "name": "ipython",
    "version": 3
   },
   "file_extension": ".py",
   "mimetype": "text/x-python",
   "name": "python",
   "nbconvert_exporter": "python",
   "pygments_lexer": "ipython3",
   "version": "3.9.13"
  },
  "toc": {
   "base_numbering": 1,
   "nav_menu": {},
   "number_sections": true,
   "sideBar": true,
   "skip_h1_title": false,
   "title_cell": "Table of Contents",
   "title_sidebar": "Contents",
   "toc_cell": false,
   "toc_position": {},
   "toc_section_display": true,
   "toc_window_display": false
  }
 },
 "nbformat": 4,
 "nbformat_minor": 5
}
